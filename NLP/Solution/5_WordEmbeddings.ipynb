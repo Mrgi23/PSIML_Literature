{
 "cells": [
  {
   "cell_type": "code",
   "execution_count": null,
   "metadata": {},
   "outputs": [],
   "source": [
    "%load_ext autoreload\n",
    "%autoreload 2"
   ]
  },
  {
   "cell_type": "markdown",
   "metadata": {},
   "source": [
    "# 5. Word Embeddings"
   ]
  },
  {
   "cell_type": "markdown",
   "metadata": {},
   "source": [
    "Set the path to GloVe pretrained embeddings file. This file can be downloaded from here..."
   ]
  },
  {
   "cell_type": "code",
   "execution_count": null,
   "metadata": {},
   "outputs": [],
   "source": [
    "# path to the downloaded embeddings file\n",
    "import os\n",
    "\n",
    "fileDir = os.path.dirname(os.path.realpath('__file__'))\n",
    "absFilePathToGloVe = os.path.join(fileDir, '../Data/glove.6B.100d.txt')\n",
    "pathToGloveEmbeddings = os.path.abspath(os.path.realpath(absFilePathToGloVe))\n",
    "print (pathToGloveEmbeddings)"
   ]
  },
  {
   "cell_type": "markdown",
   "metadata": {},
   "source": [
    "Instantiate the <code>PreTrainedEmbeddigs</code> class, that is used to efficiently load and process embeddings:"
   ]
  },
  {
   "cell_type": "code",
   "execution_count": null,
   "metadata": {},
   "outputs": [],
   "source": [
    "from Common.PreTrainedEmbeddings import PreTrainedEmbeddings\n",
    "\n",
    "embeddings = PreTrainedEmbeddings.from_embeddings_file(pathToGloveEmbeddings)"
   ]
  },
  {
   "cell_type": "markdown",
   "metadata": {},
   "source": [
    "Explore the loaded pretrained embedding vectors:"
   ]
  },
  {
   "cell_type": "code",
   "execution_count": null,
   "metadata": {},
   "outputs": [],
   "source": [
    "embeddings.get_embedding(word=\"hello\")"
   ]
  },
  {
   "cell_type": "markdown",
   "metadata": {},
   "source": [
    "One of the core features of word embeddings is that they should encode syntactic and semantic relationships that manifest as regularities in word use. One of the most common way to explore the semantic repationships encoded in word embeddings is a method called \"analogy task\". There are three words provided and you should determine the fourth word, that has the same relationship to the third word, as the first two words have.\n",
    "\n",
    "If we observe words purely as vectors in some vector spaces, the difference between vectors <code>word2</code> and <code>word1</code> encodes the relationship between these two words. That means that the same difference should be between vectors <code>word4</code> and <code>word3</code>, as they should have the analoguos relationship. Therefore, the vector correspoding to the fourth word is calculated as <code>word3 + (word2 - word1)</code>. Doing a neaest neighbor query among vectors correspoding to the existing words, for this result vector, solves the analogy task."
   ]
  },
  {
   "cell_type": "code",
   "execution_count": null,
   "metadata": {},
   "outputs": [],
   "source": [
    "def compute_and_print_analogy(embeddings, word1, word2, word3, number_analogies=5):\n",
    "\n",
    "    vector1 = embeddings.get_embedding(word1)\n",
    "    vector2 = embeddings.get_embedding(word2)\n",
    "    vector3 = embeddings.get_embedding(word3)\n",
    "\n",
    "    spatial_relationship = vector2 - vector1\n",
    "\n",
    "    vector4 = vector3 + spatial_relationship\n",
    "\n",
    "    closest_words = embeddings.get_words_closest_to_vector(vector=vector4, n=number_analogies)\n",
    "\n",
    "    existing_words = set([word1, word2, word3])\n",
    "    closest_words = [word for word in closest_words if word not in existing_words]\n",
    "\n",
    "    if len(closest_words) == 0:\n",
    "        print(\"Could not find the nearest neighbors for the vector!\")\n",
    "        return\n",
    "\n",
    "    for word4 in closest_words:\n",
    "        print(\"{} : {} :: {} : {}\".format(word1, word2, word3, word4))"
   ]
  },
  {
   "cell_type": "code",
   "execution_count": null,
   "metadata": {},
   "outputs": [],
   "source": [
    "compute_and_print_analogy(embeddings, \"man\", \"he\", \"woman\")"
   ]
  },
  {
   "cell_type": "code",
   "execution_count": null,
   "metadata": {},
   "outputs": [],
   "source": [
    "compute_and_print_analogy(embeddings, \"fly\", \"plane\", \"sail\")"
   ]
  },
  {
   "cell_type": "code",
   "execution_count": null,
   "metadata": {},
   "outputs": [],
   "source": [
    "compute_and_print_analogy(embeddings, \"man\", \"king\", \"woman\")"
   ]
  },
  {
   "cell_type": "code",
   "execution_count": null,
   "metadata": {},
   "outputs": [],
   "source": [
    "compute_and_print_analogy(embeddings, \"man\", \"doctor\", \"woman\")"
   ]
  },
  {
   "cell_type": "markdown",
   "metadata": {},
   "source": [
    "## Add the Sequence Vectorizer\n",
    "\n",
    "The **Sequence Vectorizer** prepares the input sequence in the format expected by the <code>nn.Embedding</code> layer. The <code>nn.Embedding</code> layer is a PyTorch module that encapsulates the embedding matrix. The <code>nn.Embedding</code> layer enables us to map a token's integer index (in the **Vocabulary**) to the vector that is further used in the neural network computation.\n",
    "\n",
    "Therefore, the input sequence should encoded as sequence of token's indices in the **Vocabulary**, instead of one-hot encoding."
   ]
  },
  {
   "cell_type": "code",
   "execution_count": null,
   "metadata": {},
   "outputs": [],
   "source": [
    "# path to the preprocesed dataset\n",
    "absFilePathToPreprocessedDataset = os.path.join(fileDir, '../Data/training.1600000.processed.noemoticon_preprocessed.csv')\n",
    "pathToPreprocessedDataset = os.path.abspath(os.path.realpath(absFilePathToPreprocessedDataset))\n",
    "print (pathToPreprocessedDataset)"
   ]
  },
  {
   "cell_type": "code",
   "execution_count": null,
   "metadata": {},
   "outputs": [],
   "source": [
    "from Common.TwitterDataset import TwitterDataset\n",
    "\n",
    "# Step #1: Instantiate the dataset\n",
    "# instantiate the dataset\n",
    "dataset = TwitterDataset.load_dataset_and_make_vectorizer(pathToPreprocessedDataset, representation=\"indices\")\n",
    "# get the vectorizer\n",
    "vectorizer = dataset.get_vectorizer()"
   ]
  },
  {
   "cell_type": "code",
   "execution_count": null,
   "metadata": {},
   "outputs": [],
   "source": [
    "# vectorize the text of the tweet\n",
    "vectorizer.vectorize(text=\"Jerry is good\")"
   ]
  },
  {
   "cell_type": "code",
   "execution_count": null,
   "metadata": {},
   "outputs": [],
   "source": [
    "# vectorize the text of the tweet\n",
    "vectorizer.vectorize(text=\"Today is a sunny day and we have a workshop\")"
   ]
  },
  {
   "cell_type": "code",
   "execution_count": null,
   "metadata": {},
   "outputs": [],
   "source": []
  }
 ],
 "metadata": {
  "file_extension": ".py",
  "kernelspec": {
   "display_name": "Python 3.6.13 ('NLPWorkshop')",
   "language": "python",
   "name": "python3"
  },
  "language_info": {
   "codemirror_mode": {
    "name": "ipython",
    "version": 3
   },
   "file_extension": ".py",
   "mimetype": "text/x-python",
   "name": "python",
   "nbconvert_exporter": "python",
   "pygments_lexer": "ipython3",
   "version": "3.6.13"
  },
  "mimetype": "text/x-python",
  "name": "python",
  "npconvert_exporter": "python",
  "orig_nbformat": 2,
  "pygments_lexer": "ipython3",
  "version": 3,
  "vscode": {
   "interpreter": {
    "hash": "eff8d7d51e26047d069efc853c99b9bd7989bb88649bcc220bbb87d203046f2b"
   }
  }
 },
 "nbformat": 4,
 "nbformat_minor": 2
}

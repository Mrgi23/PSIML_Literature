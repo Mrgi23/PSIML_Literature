{
 "cells": [
  {
   "cell_type": "markdown",
   "metadata": {},
   "source": [
    "# Introduction"
   ]
  },
  {
   "cell_type": "markdown",
   "metadata": {},
   "source": [
    "## Exploring the Dataset\n",
    "This is the sentiment140 dataset. It contains 1,600,000 tweets extracted using the twitter api. The tweets have been annotated (0 = negative, 4 = positive) and they can be used to detect sentiment.\n",
    "\n",
    "It contains the following 6 fields:\n",
    "\n",
    "- **target**: the polarity of the tweet (0 = negative, 4 = positive)\n",
    "- **ids**: The id of the tweet (2087)\n",
    "- **date**: the date of the tweet (Sat May 16 23:58:44 UTC 2009)\n",
    "- **flag**: The query (lyx). If there is no query, then this value is NO_QUERY.\n",
    "- **user**: the user that tweeted (robotickilldozr)\n",
    "- **text**: the text of the tweet (Lyx is cool)"
   ]
  },
  {
   "cell_type": "code",
   "execution_count": 1,
   "metadata": {},
   "outputs": [
    {
     "name": "stdout",
     "output_type": "stream",
     "text": "c:\\Users\\v-tastan\\source\\repos\\PetnicaNLPWorkshop\\Data\\training.1600000.processed.noemoticon.csv\nc:\\Users\\v-tastan\\source\\repos\\PetnicaNLPWorkshop\\Data\\training.1600000.processed.noemoticon_preprocessed.csv\n"
    }
   ],
   "source": [
    "# Path to the unzipped dataset and path where preprocessed data should be stored\n",
    "import os\n",
    "\n",
    "fileDir = os.path.dirname(os.path.realpath('__file__'))\n",
    "absFilePath = os.path.join(fileDir, '../Data/training.1600000.processed.noemoticon.csv')\n",
    "absFilePathToPreprocessedDataset = os.path.join(fileDir, '../Data/training.1600000.processed.noemoticon_preprocessed.csv')\n",
    "pathToDataset = os.path.abspath(os.path.realpath(absFilePath))\n",
    "pathToPreprocessedDataset = os.path.abspath(os.path.realpath(absFilePathToPreprocessedDataset))\n",
    "print (pathToDataset)\n",
    "print (pathToPreprocessedDataset)"
   ]
  },
  {
   "cell_type": "code",
   "execution_count": 11,
   "metadata": {},
   "outputs": [
    {
     "data": {
      "text/html": "<div>\n<style scoped>\n    .dataframe tbody tr th:only-of-type {\n        vertical-align: middle;\n    }\n\n    .dataframe tbody tr th {\n        vertical-align: top;\n    }\n\n    .dataframe thead th {\n        text-align: right;\n    }\n</style>\n<table border=\"1\" class=\"dataframe\">\n  <thead>\n    <tr style=\"text-align: right;\">\n      <th></th>\n      <th>target</th>\n      <th>ids</th>\n      <th>date</th>\n      <th>flag</th>\n      <th>user</th>\n      <th>text</th>\n    </tr>\n  </thead>\n  <tbody>\n    <tr>\n      <td>0</td>\n      <td>0</td>\n      <td>1467810369</td>\n      <td>Mon Apr 06 22:19:45 PDT 2009</td>\n      <td>NO_QUERY</td>\n      <td>_TheSpecialOne_</td>\n      <td>@switchfoot http://twitpic.com/2y1zl - Awww, t...</td>\n    </tr>\n    <tr>\n      <td>1</td>\n      <td>0</td>\n      <td>1467810672</td>\n      <td>Mon Apr 06 22:19:49 PDT 2009</td>\n      <td>NO_QUERY</td>\n      <td>scotthamilton</td>\n      <td>is upset that he can't update his Facebook by ...</td>\n    </tr>\n    <tr>\n      <td>2</td>\n      <td>0</td>\n      <td>1467810917</td>\n      <td>Mon Apr 06 22:19:53 PDT 2009</td>\n      <td>NO_QUERY</td>\n      <td>mattycus</td>\n      <td>@Kenichan I dived many times for the ball. Man...</td>\n    </tr>\n    <tr>\n      <td>3</td>\n      <td>0</td>\n      <td>1467811184</td>\n      <td>Mon Apr 06 22:19:57 PDT 2009</td>\n      <td>NO_QUERY</td>\n      <td>ElleCTF</td>\n      <td>my whole body feels itchy and like its on fire</td>\n    </tr>\n    <tr>\n      <td>4</td>\n      <td>0</td>\n      <td>1467811193</td>\n      <td>Mon Apr 06 22:19:57 PDT 2009</td>\n      <td>NO_QUERY</td>\n      <td>Karoli</td>\n      <td>@nationwideclass no, it's not behaving at all....</td>\n    </tr>\n    <tr>\n      <td>...</td>\n      <td>...</td>\n      <td>...</td>\n      <td>...</td>\n      <td>...</td>\n      <td>...</td>\n      <td>...</td>\n    </tr>\n    <tr>\n      <td>1599995</td>\n      <td>4</td>\n      <td>2193601966</td>\n      <td>Tue Jun 16 08:40:49 PDT 2009</td>\n      <td>NO_QUERY</td>\n      <td>AmandaMarie1028</td>\n      <td>Just woke up. Having no school is the best fee...</td>\n    </tr>\n    <tr>\n      <td>1599996</td>\n      <td>4</td>\n      <td>2193601969</td>\n      <td>Tue Jun 16 08:40:49 PDT 2009</td>\n      <td>NO_QUERY</td>\n      <td>TheWDBoards</td>\n      <td>TheWDB.com - Very cool to hear old Walt interv...</td>\n    </tr>\n    <tr>\n      <td>1599997</td>\n      <td>4</td>\n      <td>2193601991</td>\n      <td>Tue Jun 16 08:40:49 PDT 2009</td>\n      <td>NO_QUERY</td>\n      <td>bpbabe</td>\n      <td>Are you ready for your MoJo Makeover? Ask me f...</td>\n    </tr>\n    <tr>\n      <td>1599998</td>\n      <td>4</td>\n      <td>2193602064</td>\n      <td>Tue Jun 16 08:40:49 PDT 2009</td>\n      <td>NO_QUERY</td>\n      <td>tinydiamondz</td>\n      <td>Happy 38th Birthday to my boo of alll time!!! ...</td>\n    </tr>\n    <tr>\n      <td>1599999</td>\n      <td>4</td>\n      <td>2193602129</td>\n      <td>Tue Jun 16 08:40:50 PDT 2009</td>\n      <td>NO_QUERY</td>\n      <td>RyanTrevMorris</td>\n      <td>happy #charitytuesday @theNSPCC @SparksCharity...</td>\n    </tr>\n  </tbody>\n</table>\n<p>1600000 rows × 6 columns</p>\n</div>",
      "text/plain": "         target         ids                          date      flag  \\\n0             0  1467810369  Mon Apr 06 22:19:45 PDT 2009  NO_QUERY   \n1             0  1467810672  Mon Apr 06 22:19:49 PDT 2009  NO_QUERY   \n2             0  1467810917  Mon Apr 06 22:19:53 PDT 2009  NO_QUERY   \n3             0  1467811184  Mon Apr 06 22:19:57 PDT 2009  NO_QUERY   \n4             0  1467811193  Mon Apr 06 22:19:57 PDT 2009  NO_QUERY   \n...         ...         ...                           ...       ...   \n1599995       4  2193601966  Tue Jun 16 08:40:49 PDT 2009  NO_QUERY   \n1599996       4  2193601969  Tue Jun 16 08:40:49 PDT 2009  NO_QUERY   \n1599997       4  2193601991  Tue Jun 16 08:40:49 PDT 2009  NO_QUERY   \n1599998       4  2193602064  Tue Jun 16 08:40:49 PDT 2009  NO_QUERY   \n1599999       4  2193602129  Tue Jun 16 08:40:50 PDT 2009  NO_QUERY   \n\n                    user                                               text  \n0        _TheSpecialOne_  @switchfoot http://twitpic.com/2y1zl - Awww, t...  \n1          scotthamilton  is upset that he can't update his Facebook by ...  \n2               mattycus  @Kenichan I dived many times for the ball. Man...  \n3                ElleCTF    my whole body feels itchy and like its on fire   \n4                 Karoli  @nationwideclass no, it's not behaving at all....  \n...                  ...                                                ...  \n1599995  AmandaMarie1028  Just woke up. Having no school is the best fee...  \n1599996      TheWDBoards  TheWDB.com - Very cool to hear old Walt interv...  \n1599997           bpbabe  Are you ready for your MoJo Makeover? Ask me f...  \n1599998     tinydiamondz  Happy 38th Birthday to my boo of alll time!!! ...  \n1599999   RyanTrevMorris  happy #charitytuesday @theNSPCC @SparksCharity...  \n\n[1600000 rows x 6 columns]"
     },
     "execution_count": 11,
     "metadata": {},
     "output_type": "execute_result"
    }
   ],
   "source": [
    "import pandas as pd\n",
    "\n",
    "# column names in the CSV file\n",
    "columnNames = [\"target\", \"ids\", \"date\", \"flag\", \"user\", \"text\"]\n",
    "\n",
    "# if the encoding is not set, the file could not be read\n",
    "# if the names are not set, the first row is mistaken for a header \n",
    "dataset = pd.read_csv(pathToDataset, encoding='cp1252', names=columnNames)\n",
    "\n",
    "dataset"
   ]
  },
  {
   "cell_type": "code",
   "execution_count": 12,
   "metadata": {},
   "outputs": [
    {
     "data": {
      "text/plain": "4    800000\n0    800000\nName: target, dtype: int64"
     },
     "execution_count": 12,
     "metadata": {},
     "output_type": "execute_result"
    }
   ],
   "source": [
    "dataset['target'].value_counts()"
   ]
  },
  {
   "cell_type": "markdown",
   "metadata": {},
   "source": [
    "## Text Preprocessing"
   ]
  },
  {
   "cell_type": "code",
   "execution_count": 13,
   "metadata": {},
   "outputs": [],
   "source": [
    "dataset = dataset.sample(1000)"
   ]
  },
  {
   "cell_type": "code",
   "execution_count": 14,
   "metadata": {},
   "outputs": [],
   "source": [
    "from TextPreprocessor import preprocess_text\n",
    "\n",
    "dataset[\"text\"] = dataset[\"text\"].apply(preprocess_text)"
   ]
  },
  {
   "cell_type": "code",
   "execution_count": 15,
   "metadata": {},
   "outputs": [],
   "source": [
    "dataset[\"target\"] = dataset[\"target\"] / 4\n",
    "\n",
    "dataset = dataset[['text', 'target']]"
   ]
  },
  {
   "cell_type": "code",
   "execution_count": 16,
   "metadata": {},
   "outputs": [
    {
     "data": {
      "text/html": "<div>\n<style scoped>\n    .dataframe tbody tr th:only-of-type {\n        vertical-align: middle;\n    }\n\n    .dataframe tbody tr th {\n        vertical-align: top;\n    }\n\n    .dataframe thead th {\n        text-align: right;\n    }\n</style>\n<table border=\"1\" class=\"dataframe\">\n  <thead>\n    <tr style=\"text-align: right;\">\n      <th></th>\n      <th>text</th>\n      <th>target</th>\n      <th>split</th>\n    </tr>\n  </thead>\n  <tbody>\n    <tr>\n      <td>0</td>\n      <td>been at the doctor's with my aunt since 8ish. ...</td>\n      <td>0.0</td>\n      <td>train</td>\n    </tr>\n    <tr>\n      <td>1</td>\n      <td>@celubs it's not the same watching them withou...</td>\n      <td>0.0</td>\n      <td>train</td>\n    </tr>\n    <tr>\n      <td>2</td>\n      <td>morning everyone! another glorious day</td>\n      <td>1.0</td>\n      <td>train</td>\n    </tr>\n    <tr>\n      <td>3</td>\n      <td>@adhack so you did! behind on the blog reading</td>\n      <td>0.0</td>\n      <td>train</td>\n    </tr>\n    <tr>\n      <td>4</td>\n      <td>@johnpicacio welcome to twitter, john!  (it's ...</td>\n      <td>1.0</td>\n      <td>train</td>\n    </tr>\n    <tr>\n      <td>...</td>\n      <td>...</td>\n      <td>...</td>\n      <td>...</td>\n    </tr>\n    <tr>\n      <td>995</td>\n      <td>i'm sleepy and sickly and have to be social</td>\n      <td>0.0</td>\n      <td>test</td>\n    </tr>\n    <tr>\n      <td>996</td>\n      <td>star trek was awesome</td>\n      <td>1.0</td>\n      <td>test</td>\n    </tr>\n    <tr>\n      <td>997</td>\n      <td>ahh i love my mommy she went 2 krispy kreme ju...</td>\n      <td>1.0</td>\n      <td>test</td>\n    </tr>\n    <tr>\n      <td>998</td>\n      <td>@weaverh how do you think i feel? my closest i...</td>\n      <td>0.0</td>\n      <td>test</td>\n    </tr>\n    <tr>\n      <td>999</td>\n      <td>@dotdagenius maaaan! so i guess that means i s...</td>\n      <td>0.0</td>\n      <td>test</td>\n    </tr>\n  </tbody>\n</table>\n<p>1000 rows × 3 columns</p>\n</div>",
      "text/plain": "                                                  text  target  split\n0    been at the doctor's with my aunt since 8ish. ...     0.0  train\n1    @celubs it's not the same watching them withou...     0.0  train\n2              morning everyone! another glorious day      1.0  train\n3      @adhack so you did! behind on the blog reading      0.0  train\n4    @johnpicacio welcome to twitter, john!  (it's ...     1.0  train\n..                                                 ...     ...    ...\n995       i'm sleepy and sickly and have to be social      0.0   test\n996                             star trek was awesome      1.0   test\n997  ahh i love my mommy she went 2 krispy kreme ju...     1.0   test\n998  @weaverh how do you think i feel? my closest i...     0.0   test\n999  @dotdagenius maaaan! so i guess that means i s...     0.0   test\n\n[1000 rows x 3 columns]"
     },
     "execution_count": 16,
     "metadata": {},
     "output_type": "execute_result"
    }
   ],
   "source": [
    "from SplitDataset import SplitDataset\n",
    "\n",
    "dataset = SplitDataset(dataset)\n",
    "\n",
    "dataset"
   ]
  },
  {
   "cell_type": "code",
   "execution_count": 7,
   "metadata": {},
   "outputs": [
    {
     "data": {
      "text/plain": "0.0    511\n1.0    489\nName: target, dtype: int64"
     },
     "execution_count": 7,
     "metadata": {},
     "output_type": "execute_result"
    }
   ],
   "source": [
    "dataset['target'].value_counts()"
   ]
  },
  {
   "cell_type": "code",
   "execution_count": 8,
   "metadata": {},
   "outputs": [],
   "source": [
    "dataset.to_csv(pathToPreprocessedDataset, index=False)"
   ]
  }
 ],
 "metadata": {
  "file_extension": ".py",
  "kernelspec": {
   "display_name": "Python 3",
   "language": "python",
   "name": "python3"
  },
  "language_info": {
   "codemirror_mode": {
    "name": "ipython",
    "version": 3
   },
   "file_extension": ".py",
   "mimetype": "text/x-python",
   "name": "python",
   "nbconvert_exporter": "python",
   "pygments_lexer": "ipython3",
   "version": "3.7.4-final"
  },
  "mimetype": "text/x-python",
  "name": "python",
  "npconvert_exporter": "python",
  "pygments_lexer": "ipython3",
  "version": 3
 },
 "nbformat": 4,
 "nbformat_minor": 2
}
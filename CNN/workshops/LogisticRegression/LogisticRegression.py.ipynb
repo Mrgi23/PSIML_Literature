{
 "cells": [
  {
   "cell_type": "markdown",
   "metadata": {},
   "source": [
    "# Logistic Regression"
   ]
  },
  {
   "cell_type": "markdown",
   "metadata": {},
   "source": [
    "### Data\n",
    "Problem and data taken from *https://www.kaggle.com/c/titanic*\n",
    "\n",
    "### Goal \n",
    "\n",
    "Based on the provided information about person predict if person survived Titanic crash or not.\n",
    "\n",
    "### Feature explanation\n",
    "\n",
    "| Variable | Definition | Key |\n",
    "| ------------- | ------------- | ------------- |\n",
    "| survival | Survival | 0 = No, 1 = Yes |\n",
    "| pclass | Ticket class | 1 = 1st, 2 = 2nd, 3 = 3rd |\n",
    "| sex | Sex | |\n",
    "| Age | Age in years | |\n",
    "| sibsp | # of siblings / spouses aboard the Titanic | |\n",
    "| parch | # of parents / children aboard the Titanic | |\n",
    "| ticket | Ticket number | |\n",
    "| fare | Passenger fare | |\n",
    "| cabin | Cabin number | |\n",
    "| embarked | Port of Embarkation | C = Cherbourg, Q = Queenstown, S = Southampton |\n",
    "\n",
    "### Variable Notes\n",
    "\n",
    "**pclass**: A proxy for socio-economic status (SES)  \n",
    "1st = Upper  \n",
    "2nd = Middle  \n",
    "3rd = Lower  \n",
    "\n",
    "\n",
    "**age**: Age is fractional if less than 1. If the age is estimated, is it in the form of xx.5  \n",
    "\n",
    "**sibsp**: The dataset defines family relations in this way...  \n",
    "Sibling = brother, sister, stepbrother, stepsister  \n",
    "Spouse = husband, wife (mistresses and fiancés were ignored)  \n",
    "\n",
    "**parch**: The dataset defines family relations in this way...  \n",
    "Parent = mother, father  \n",
    "Child = daughter, son, stepdaughter, stepson  \n",
    "\n",
    "Some children travelled only with a nanny, therefore parch=0 for them.  "
   ]
  },
  {
   "cell_type": "markdown",
   "metadata": {},
   "source": [
    "## Reading the dataset"
   ]
  },
  {
   "cell_type": "code",
   "execution_count": null,
   "metadata": {},
   "outputs": [],
   "source": [
    "import os\n",
    "import pandas as pd\n",
    "\n",
    "data_path = os.path.join('Data', 'train.csv')\n",
    "data = pd.read_csv(data_path)"
   ]
  },
  {
   "cell_type": "markdown",
   "metadata": {},
   "source": [
    "## Exploring the dataset "
   ]
  },
  {
   "cell_type": "code",
   "execution_count": null,
   "metadata": {},
   "outputs": [],
   "source": [
    "data.sample(n=10)"
   ]
  },
  {
   "cell_type": "code",
   "execution_count": null,
   "metadata": {},
   "outputs": [],
   "source": [
    "data.describe()"
   ]
  },
  {
   "cell_type": "markdown",
   "metadata": {},
   "source": [
    "## Feature engineering\n",
    "Unlike the vast majority of deep learning techniques, data science problems usually require a lot of feature manipulation. It's always a good thing to have an expert in the field take a look at the data and provide input about what makes sense, etc. For example, in our case by domain knowledge, we conclude that a person's name should not be of any value. The next thing to do is to analyze raw attributes and come up with good features candidates. Some of the attributes are going to end up straight as features in our models, some will be removed, some will get replaced by brand new features. An example of the last one is creating dummy coding out of categorical attributes.\n",
    "\n",
    "### Guidelines for creating features\n",
    "1. Consider removing features which domain experts characterized as unimportant\n",
    "1. Perform missing values imputation\n",
    "1. Analyze correlation of each feature with the target variable (and with each other)\n",
    "1. Remove highly correlated features\n",
    "1. Encode categorical variables in a sensible way (e.g. using dummy coding)\n",
    "\n",
    "### Other things to try\n",
    "1. Perform clustering of the data, and include cluster_id as a feature\n",
    "1. Perform dimmensionality reduction technique (e.g. PCA)"
   ]
  },
  {
   "cell_type": "markdown",
   "metadata": {},
   "source": [
    "## Remove unnecessary attributes"
   ]
  },
  {
   "cell_type": "code",
   "execution_count": null,
   "metadata": {},
   "outputs": [],
   "source": [
    "# Before we apply any transformation on the data, it's a good idea to copy the data on a safe\n",
    "# place in order to have a \"raw\" copy just as it was loaded from a file.\n",
    "df = data.copy()\n",
    "df.shape"
   ]
  },
  {
   "cell_type": "code",
   "execution_count": null,
   "metadata": {},
   "outputs": [],
   "source": [
    "df = df.drop(columns=['PassengerId', 'Name', 'Ticket'])"
   ]
  },
  {
   "cell_type": "markdown",
   "metadata": {},
   "source": [
    "## Missing values imputation\n",
    "Pandas library provides us with a useful function: [DataFrame.isna()](https://pandas.pydata.org/pandas-docs/stable/reference/api/pandas.DataFrame.isna.html) which will return an array, every value in a dataframe will be replaced by a boolean value indicating whether this value is NULL or not. We can use this as a mask to select only rows containing NULL values for certain attributes."
   ]
  },
  {
   "cell_type": "code",
   "execution_count": null,
   "metadata": {},
   "outputs": [],
   "source": [
    "# Example usage of .isna() function\n",
    "df.isna()"
   ]
  },
  {
   "cell_type": "code",
   "execution_count": null,
   "metadata": {},
   "outputs": [],
   "source": [
    "df['Embarked'].isna()"
   ]
  },
  {
   "cell_type": "code",
   "execution_count": null,
   "metadata": {},
   "outputs": [],
   "source": [
    "embarked_null_mask = df['Embarked'].isna()\n",
    "df[embarked_null_mask]"
   ]
  },
  {
   "cell_type": "code",
   "execution_count": null,
   "metadata": {},
   "outputs": [],
   "source": [
    "df_missing = pd.concat([ df.isna().sum(),  100*df.isna().sum()/891], axis=1)\n",
    "df_missing.columns = ['# missing', '% missing']\n",
    "df_missing"
   ]
  },
  {
   "cell_type": "markdown",
   "metadata": {},
   "source": [
    "The simplest ways to impute missing values are:\n",
    "* Remove attributes that contain missing values\n",
    "* Remove instances that contain missing values\n",
    "* Replace missing values with mean value of that feature (we will use Panda's [DataFrame.fillna()](https://pandas.pydata.org/pandas-docs/stable/reference/api/pandas.DataFrame.fillna.html) function)"
   ]
  },
  {
   "cell_type": "code",
   "execution_count": null,
   "metadata": {},
   "outputs": [],
   "source": [
    "# Fix missing values in attribute \"Age\" by replacing them with mean value of this attribute\n",
    "age_mean = df['Age'].mean()\n",
    "df['Age'] = df['Age'].fillna(age_mean)\n",
    "\n",
    "# Sanity check\n",
    "df_missing = pd.concat([ df.isna().sum(),  100*df.isna().sum()/891], axis=1)\n",
    "df_missing.columns = ['# missing', '% missing']\n",
    "df_missing"
   ]
  },
  {
   "cell_type": "code",
   "execution_count": null,
   "metadata": {},
   "outputs": [],
   "source": [
    "# Fix missing values in attribute \"Cabin\" by removing the attribute\n",
    "df = df.drop(columns=['Cabin'])\n",
    "\n",
    "# Sanity check\n",
    "df_missing = pd.concat([ df.isna().sum(),  100*df.isna().sum()/891], axis=1)\n",
    "df_missing.columns = ['# missing', '% missing']\n",
    "df_missing"
   ]
  },
  {
   "cell_type": "code",
   "execution_count": null,
   "metadata": {},
   "outputs": [],
   "source": [
    "# Fix missing values in attribute \"Embarked\" by removing instances which contain this missing value\n",
    "df = df[~df['Embarked'].isna()]\n",
    "\n",
    "# Sanity check\n",
    "df_missing = pd.concat([ df.isna().sum(),  100*df.isna().sum()/891], axis=1)\n",
    "df_missing.columns = ['# missing', '% missing']\n",
    "df_missing"
   ]
  },
  {
   "cell_type": "code",
   "execution_count": null,
   "metadata": {},
   "outputs": [],
   "source": [
    "pd.get_dummies(df)"
   ]
  },
  {
   "cell_type": "code",
   "execution_count": null,
   "metadata": {},
   "outputs": [],
   "source": [
    "def get_correct_dummies(df, categorical_attributes):\n",
    "    df_copy = df.copy()\n",
    "    for attr in categorical_attributes:\n",
    "        dummy = pd.get_dummies(df_copy[attr], columns=[attr], prefix=attr)\n",
    "        without_last = dummy.drop(columns=[dummy.columns.values[-1]])\n",
    "        df_copy = df_copy.drop(columns=[attr])\n",
    "        df_copy = pd.concat([df_copy, without_last], axis=1)\n",
    "    return df_copy\n",
    "    \n",
    "df_encoded = get_correct_dummies(df, ['Pclass', 'Sex', 'SibSp', 'Parch', 'Embarked'])\n",
    "df_encoded"
   ]
  },
  {
   "cell_type": "markdown",
   "metadata": {},
   "source": [
    "## Analyze correlation"
   ]
  },
  {
   "cell_type": "code",
   "execution_count": null,
   "metadata": {},
   "outputs": [],
   "source": [
    "import matplotlib.pyplot as plt\n",
    "\n",
    "f = plt.figure(figsize=(19, 9))\n",
    "plt.matshow(df_encoded.corr(), fignum=f.number)\n",
    "plt.xticks(range(df_encoded.shape[1]), df_encoded.columns, fontsize=14, rotation=90)\n",
    "plt.yticks(range(df_encoded.shape[1]), df_encoded.columns, fontsize=14)\n",
    "cb = plt.colorbar()\n",
    "cb.ax.tick_params(labelsize=14)"
   ]
  },
  {
   "cell_type": "markdown",
   "metadata": {},
   "source": [
    "Let's now separate features from label and remove redundant features (ones that are highly correlated with other features). For example, Fare has high correlation with feature Pclass_1, so we will remove one of them. We selected Pclass_1 but since it's only a part of encoded attribute Pclass, we will have to remove Pclass_2 as well. High correlation between parts of encoded variables could be left as is. They are somewhat expected because of the way we built those encodings. We also observe that Parch is correlated to SibSp attribute, but if we removed one of them we'd end up with a small number of features so for the demonstration purposes let them be included in the final dataset."
   ]
  },
  {
   "cell_type": "code",
   "execution_count": null,
   "metadata": {},
   "outputs": [],
   "source": [
    "df_features = df_encoded.drop(columns=['Survived', 'Pclass_1', 'Pclass_2'])\n",
    "print(f'Number of features in a dataset: {df_features.shape[1]}')\n",
    "\n",
    "df_labels = df_encoded[['Survived']]"
   ]
  },
  {
   "cell_type": "code",
   "execution_count": null,
   "metadata": {},
   "outputs": [],
   "source": [
    "# Conversion from Pandas dataframes to Numpy nd-arrays\n",
    "features = df_features.to_numpy()\n",
    "labels = df_labels.to_numpy().ravel()\n",
    "\n",
    "print(features.shape)\n",
    "print(labels.shape)"
   ]
  },
  {
   "cell_type": "markdown",
   "metadata": {},
   "source": [
    "## Train/Test split"
   ]
  },
  {
   "cell_type": "code",
   "execution_count": null,
   "metadata": {},
   "outputs": [],
   "source": [
    "import numpy as np\n",
    "\n",
    "# We will fix pseudo-random number generator so that we all get the same results\n",
    "np.random.seed(0)\n",
    "\n",
    "train_indices = np.sort(np.random.choice(features.shape[0], int(features.shape[0]*0.7), replace=False))\n",
    "\n",
    "train_features = features[train_indices]\n",
    "test_features = np.delete(features, train_indices, axis=0)\n",
    "\n",
    "train_labels = labels[train_indices]\n",
    "test_labels = np.delete(labels, train_indices, axis=0)"
   ]
  },
  {
   "cell_type": "markdown",
   "metadata": {},
   "source": [
    "## Feature normalization"
   ]
  },
  {
   "cell_type": "code",
   "execution_count": null,
   "metadata": {},
   "outputs": [],
   "source": [
    "# Convert everything to floats so we can transform features\n",
    "\n",
    "train_features = train_features.astype(float)\n",
    "test_features = test_features.astype(float)"
   ]
  },
  {
   "cell_type": "code",
   "execution_count": null,
   "metadata": {},
   "outputs": [],
   "source": [
    "# Standardize features to have mean=0, and std=1\n",
    "\n",
    "mean_train = np.mean(train_features, axis=0)\n",
    "std_train = np.std(train_features, axis=0)\n",
    "\n",
    "train_features = (train_features - mean_train) / std_train\n",
    "test_features = (test_features - mean_train) / std_train\n",
    "\n",
    "print(f'Features mean: {train_features.mean(axis=0).round()}')\n",
    "print(f'Features std: {train_features.std(axis=0).round()}')"
   ]
  },
  {
   "cell_type": "code",
   "execution_count": null,
   "metadata": {},
   "outputs": [],
   "source": [
    "# Adding column of ones for implicit treatment of bias term\n",
    "\n",
    "train_features = np.concatenate((np.ones((train_features.shape[0],1)), train_features), 1)\n",
    "test_features = np.concatenate((np.ones((test_features.shape[0],1)), test_features), 1)"
   ]
  },
  {
   "cell_type": "markdown",
   "metadata": {},
   "source": [
    "## Important ML functions:\n",
    "### Sigmoid function:\n",
    "\n",
    "\\begin{equation*}\n",
    "S(x) = \\frac{1}{1 + e^{-x}}\n",
    "\\end{equation*}\n",
    "\n",
    "You can find more at *https://en.wikipedia.org/wiki/Sigmoid_function*"
   ]
  },
  {
   "cell_type": "code",
   "execution_count": null,
   "metadata": {},
   "outputs": [],
   "source": [
    "def sigmoid(x):\n",
    "    return np.zeros(x.shape)  # [TODO] Implement sigmoid function"
   ]
  },
  {
   "cell_type": "code",
   "execution_count": null,
   "metadata": {},
   "outputs": [],
   "source": [
    "print(\"Sigmoid of \\\"0\\\":\", sigmoid(np.array([0])))\n",
    "print(\"Expected value: 0.5\")\n",
    "testArray = np.array([1,5])\n",
    "print(\"Sigmoid of [1,5]:\", sigmoid(testArray))\n",
    "print(\"Expected value: [0.73105858 0.99330715]\")"
   ]
  },
  {
   "cell_type": "code",
   "execution_count": null,
   "metadata": {},
   "outputs": [],
   "source": [
    "x = np.arange(-10., 10., 0.2)\n",
    "y = sigmoid(x)\n",
    "plt.plot(x,y)\n",
    "plt.show()"
   ]
  },
  {
   "cell_type": "markdown",
   "metadata": {},
   "source": [
    "### Logistic Model\n",
    "\n",
    "\\begin{equation*}\n",
    "f_w(x) = \\frac {1}{1+e^{-\\sum_{i=0}^n{w_i x_i}}} = \\frac {1}{1+e^{-\\mathbb{x} \\mathbb{w}}}\\\\\n",
    "\\end{equation*}\n",
    "\n",
    "### Loss function\n",
    "\\begin{equation*}\n",
    "L(w) = \\frac {1} {N} \\sum_{i=1}^N{L(f_w(x_i),y_i)} = \\frac {1} {N} \\sum_{i=1}^N{[-y_i\\log(f_w(x_i)) - (1-y_i)\\log(1 -f_w(x_i))]} \n",
    "\\end{equation*}\n",
    "\n",
    "### Gradients\n",
    "\n",
    "\\begin{equation*}\n",
    "w_0 = w_0 - \\mu \\frac{1}{N}\\sum_{i=1}^N {(f_w(x_i) - y_i)}\n",
    "\\end{equation*}\n",
    "\n",
    "\\begin{equation*}\n",
    "w_j = w_j - \\mu \\frac{1}{N}\\sum_{i=1}^N {(f_w(x_i) - y_i) x_{ij}}\n",
    "\\end{equation*}"
   ]
  },
  {
   "cell_type": "code",
   "execution_count": null,
   "metadata": {},
   "outputs": [],
   "source": [
    "class LogisticRegressionPSIML:\n",
    "    def __init__(self, num_features):\n",
    "        np.random.seed(0)\n",
    "        self.__weights = self.__weights = np.random.rand(num_features)\n",
    "\n",
    "    def predict(self, features):\n",
    "        return np.zeros(features.shape[0])  # [TODO] Implement prediction based on the formulas above\n",
    "        \n",
    "    def loss(self, predictions, labels):\n",
    "        return 0  # [TODO] Implement loss calculation based on the formulas above\n",
    "    \n",
    "    def fit(self, features, labels, lr, max_iter=1000, eps=10e-5):\n",
    "        loss_history = []\n",
    "\n",
    "        predictions = self.predict(features)   \n",
    "        loss = self.loss(predictions, labels)\n",
    "        loss_history.append(loss)\n",
    "        \n",
    "        for i in range(max_iter):\n",
    "            if len(loss_history) > 2 and np.isclose(loss_history[-2], loss_history[-1], atol=eps):\n",
    "                break\n",
    "\n",
    "            # [TODO] Implement gradient descent step, based on the formulas above\n",
    "            \n",
    "            # [CODE ENDS HERE]\n",
    "            \n",
    "            predictions = self.predict(features)\n",
    "            loss = self.loss(predictions, labels)\n",
    "            loss_history.append(loss)\n",
    "        return np.array(loss_history)"
   ]
  },
  {
   "cell_type": "code",
   "execution_count": null,
   "metadata": {},
   "outputs": [],
   "source": [
    "model = LogisticRegressionPSIML(num_features=train_features.shape[1])\n",
    "predictions = model.predict(train_features)\n",
    "\n",
    "print('CHECK: Predictions on the first three instances:')\n",
    "print(f'Calculated predictions before training:\\t{predictions[:3]}')\n",
    "print('Expected predictions before training:\\t[0.33532259 0.90135813 0.52439258]')\n",
    "print('\\n')\n",
    "\n",
    "loss = model.loss(predictions, train_labels)\n",
    "print('CHECK: Loss before training:')\n",
    "print(f'Calculated loss before training:\\t{loss}')\n",
    "print('Expected loss before training:\\t\\t0.484539684559608')\n",
    "print('\\n')\n",
    "\n",
    "loss_history = model.fit(train_features, train_labels, lr=0.015)\n",
    "print(f'Training finished after {loss_history.size} epochs')\n",
    "predictions = model.predict(train_features)"
   ]
  },
  {
   "cell_type": "code",
   "execution_count": null,
   "metadata": {},
   "outputs": [],
   "source": [
    "f = plt.figure(figsize=(16,9))\n",
    "plt.plot(loss_history)"
   ]
  },
  {
   "cell_type": "code",
   "execution_count": null,
   "metadata": {},
   "outputs": [],
   "source": [
    "np.random.seed(1)\n",
    "rand_ind = np.random.choice(train_labels.shape[0], 5, replace=False)\n",
    "pd.DataFrame(data=np.stack([train_labels[rand_ind], predictions[rand_ind].round()], axis=1), columns=['Real Labels', 'Predictions'], dtype=int)"
   ]
  },
  {
   "cell_type": "markdown",
   "metadata": {},
   "source": [
    "## Evaluation\n",
    "For many different metrics, a usefull thing to compute is a confusion matrix. This is the matrix of the following form:\n",
    "\n",
    "\\begin{equation*}\n",
    "\\begin{array} {|r|r|}\\hline TP & FP \\\\ \\hline FN & TN \\\\ \\hline  \\end{array}\n",
    "\\end{equation*}\n",
    "\n",
    "Where the entries are as following:\n",
    "* True Positive (TP) - Number of correctly predicted positive examples (where Survive = 1)\n",
    "* True Negative (TN) - Number of correctly predicted negative examples\n",
    "* False Positive (FP) - Number of predictions where the model falsly predicted positive value (the model predicted Survive = 1 where it should be Survive = 0)\n",
    "* False Negative (FN) - Number of predictions where the model falsly predicted negative value\n",
    "\n",
    "After calculating the confusion matrix, interesting metrics to compute are:\n",
    "\\begin{equation*}\n",
    "Accuracy = \\frac {TP+TN}{TP+TN+FP+FN}\\\\\n",
    "Precision = \\frac {TP} {TP + FP}\\\\\n",
    "Recall = \\frac {TP} {TP + FN}\n",
    "\\end{equation*}\n",
    "\n",
    "NOTICE: Model will return probabilities! In order for these metrics to be calculated, these probabilities must be thresholded!"
   ]
  },
  {
   "cell_type": "code",
   "execution_count": null,
   "metadata": {},
   "outputs": [],
   "source": [
    "def confusion_matrix(y_true, y_pred):\n",
    "    cm = np.zeros((2, 2))\n",
    "    cm[0, 0] = None  # [TODO] Calculate TP\n",
    "    cm[0, 1] = None  # [TODO] Calculate FP\n",
    "    cm[1, 0] = None  # [TODO] Calculate FN\n",
    "    cm[1, 1] = None  # [TODO] Calculate TN\n",
    "    \n",
    "    return cm\n",
    "\n",
    "def accuracy(y_true, y_pred):\n",
    "    tp, fp, fn, tn = confusion_matrix(y_true, y_pred).ravel()\n",
    "    \n",
    "    return 0  # [TODO] Calculate accuracy\n",
    "\n",
    "def precision(y_true, y_pred):\n",
    "    tp, fp, fn, tn = confusion_matrix(y_true, y_pred).ravel()\n",
    "    \n",
    "    return 0  # [TODO] Calculate precision\n",
    "\n",
    "def recall(y_true, y_pred):\n",
    "    tp, fp, fn, tn = confusion_matrix(y_true, y_pred).ravel()\n",
    "    \n",
    "    return 0  # [TODO] Calculate recall"
   ]
  },
  {
   "cell_type": "code",
   "execution_count": null,
   "metadata": {},
   "outputs": [],
   "source": [
    "test_predictions = model.predict(test_features).round()\n",
    "print(f'Accuracy: {accuracy(test_labels, test_predictions)}')\n",
    "print(f'Precision: {precision(test_labels, test_predictions)}')\n",
    "print(f'Recall: {recall(test_labels, test_predictions)}')"
   ]
  },
  {
   "cell_type": "markdown",
   "metadata": {},
   "source": [
    "## Sci-Kit Learn"
   ]
  },
  {
   "cell_type": "code",
   "execution_count": null,
   "metadata": {},
   "outputs": [],
   "source": [
    "from sklearn.linear_model import LogisticRegression\n",
    "from sklearn.preprocessing import StandardScaler\n",
    "from sklearn.metrics import accuracy_score, precision_score, confusion_matrix, recall_score\n",
    "from sklearn.model_selection import train_test_split\n",
    "\n",
    "sk_features = df_features.to_numpy()\n",
    "sk_labels = df_labels.to_numpy().ravel()\n",
    "\n",
    "sk_train_features, sk_test_features, sk_train_labels, sk_test_labels = train_test_split(sk_features, sk_labels, stratify=sk_labels, test_size=0.3)\n",
    "\n",
    "scaler = StandardScaler()\n",
    "scaler.fit(sk_train_features)\n",
    "sk_train_features = scaler.transform(sk_train_features)\n",
    "sk_test_features = scaler.transform(sk_test_features)\n",
    "\n",
    "model = LogisticRegression(max_iter=1000, penalty='none')\n",
    "model.fit(sk_train_features, sk_train_labels)\n",
    "sk_test_predictions = model.predict(sk_test_features).round()\n",
    "\n",
    "print(f'Accuracy: {accuracy_score(sk_test_labels, sk_test_predictions)}')\n",
    "print(f'Precision: {precision_score(sk_test_labels, sk_test_predictions)}')\n",
    "print(f'Recall: {recall_score(sk_test_labels, sk_test_predictions)}')"
   ]
  },
  {
   "cell_type": "code",
   "execution_count": null,
   "metadata": {},
   "outputs": [],
   "source": []
  }
 ],
 "metadata": {
  "kernelspec": {
   "display_name": "Python 3",
   "language": "python",
   "name": "python3"
  },
  "language_info": {
   "codemirror_mode": {
    "name": "ipython",
    "version": 3
   },
   "file_extension": ".py",
   "mimetype": "text/x-python",
   "name": "python",
   "nbconvert_exporter": "python",
   "pygments_lexer": "ipython3",
   "version": "3.7.6"
  }
 },
 "nbformat": 4,
 "nbformat_minor": 2
}

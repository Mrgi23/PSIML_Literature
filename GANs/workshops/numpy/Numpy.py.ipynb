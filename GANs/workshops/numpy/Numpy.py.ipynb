{
 "cells": [
  {
   "cell_type": "markdown",
   "metadata": {},
   "source": [
    "# Numpy"
   ]
  },
  {
   "cell_type": "markdown",
   "metadata": {},
   "source": [
    "NumPy is the fundamental package for scientific computing in Python. It is a Python library that provides a multidimensional array object, various derived objects (such as masked arrays and matrices), and an assortment of routines for fast operations on arrays, including mathematical, logical, shape manipulation, sorting, selecting, I/O, discrete Fourier transforms, basic linear algebra, basic statistical operations, random simulation and much more."
   ]
  },
  {
   "cell_type": "code",
   "execution_count": null,
   "metadata": {
    "collapsed": false
   },
   "outputs": [],
   "source": [
    "import numpy as np"
   ]
  },
  {
   "cell_type": "markdown",
   "metadata": {},
   "source": [
    "## Arrays"
   ]
  },
  {
   "cell_type": "code",
   "execution_count": null,
   "metadata": {
    "collapsed": false
   },
   "outputs": [],
   "source": [
    "# Define array\n",
    "a = np.array([1,2,3])\n",
    "\n",
    "# Some basic properties\n",
    "print(\"Array a: \", a)\n",
    "print(\"\\nShape of array a: \", a.shape)\n",
    "print(\"\\nData type of array a: \", a.dtype)"
   ]
  },
  {
   "cell_type": "code",
   "execution_count": null,
   "metadata": {
    "collapsed": false
   },
   "outputs": [],
   "source": [
    "# Define matrix\n",
    "b = np.array([[1, 2, 3], [4, 5, 6], [7, 8, 9]], dtype=np.int64)\n",
    "\n",
    "# Some basic properties\n",
    "print(\"Matrix b: \\n\", b)\n",
    "print(\"\\nShape of matrix b: \", b.shape)\n",
    "print(\"\\nData type of matrix b: \", b.dtype)"
   ]
  },
  {
   "cell_type": "code",
   "execution_count": null,
   "metadata": {
    "collapsed": false
   },
   "outputs": [],
   "source": [
    "# Multidim arrays - tensor\n",
    "c = np.array([[[1,2,3],[4,5,6]],[[7,8,9],[10,11,12]]], dtype=np.float64)\n",
    "\n",
    "# Some basic properties\n",
    "print(\"Tensor c: \\n\", c)\n",
    "print(\"\\nShape of tensor c: \", c.shape)\n",
    "print(\"\\nData type of tensor c: \", c.dtype)"
   ]
  },
  {
   "cell_type": "markdown",
   "metadata": {},
   "source": [
    "## Initialization functions"
   ]
  },
  {
   "cell_type": "code",
   "execution_count": null,
   "metadata": {
    "collapsed": false
   },
   "outputs": [],
   "source": [
    "# All zeros\n",
    "print(\"All zeros: \\n\", np.zeros((2,2)))\n",
    "\n",
    "# All ones\n",
    "print(\"\\nAll ones: \\n\", np.ones((2,3,4)))\n",
    "\n",
    "# All same value\n",
    "print(\"\\nAll same value: \\n\", np.full((2,2), 2))\n",
    "\n",
    "# Identity matrix\n",
    "print(\"\\nIdentity matrix: \\n\", np.eye(3))\n",
    "\n",
    "# Linspace\n",
    "print(\"\\nUniformly spaced elements: \\n\", np.linspace(start=0, stop=1, num=10, endpoint=False))\n",
    "\n",
    "# Arange\n",
    "print(\"\\nNumpy array with range of numbers: \\n\", np.arange(start=0, stop=10, step=2, dtype=np.float64))"
   ]
  },
  {
   "cell_type": "markdown",
   "metadata": {},
   "source": [
    "Numpy offers a variety of ways to generate \"random\" numbers."
   ]
  },
  {
   "cell_type": "code",
   "execution_count": null,
   "metadata": {
    "collapsed": false
   },
   "outputs": [],
   "source": [
    "# All random\n",
    "# Setting a random seed is important for reproducibility of the code.\n",
    "# It is good practice to use it in ML before moving to actual training as it makes debuging a lot easier.\n",
    "np.random.seed(5)\n",
    "print(\"\\nRandom uniform: \\n\", np.random.random((2,2)))\n",
    "\n",
    "# If high=None, then [0, low) is returned. By default, single integer is returned if size=None\n",
    "print(\"\\nRandom integer: \\n\", np.random.randint(low=2, high=9, size=(3, 3)))\n",
    "print(\"\\nRandom choice: \\n\", np.random.choice([1, 2, 3, 4, 5, 6], size=(4)))\n",
    "print(\"\\nSample from Binomial distribution: \\n\", np.random.binomial(n=10,p=0.5))"
   ]
  },
  {
   "cell_type": "markdown",
   "metadata": {},
   "source": [
    "## Array indexing\n",
    "Indexing starts from 0. It is possible to use negative indexes (for example -1 for last element of array)"
   ]
  },
  {
   "cell_type": "code",
   "execution_count": null,
   "metadata": {
    "collapsed": false
   },
   "outputs": [],
   "source": [
    "print(\"Array a: \", a)\n",
    "print(\"First element of a: \", a[0])\n",
    "print(\"Last element of a: \", a[2])\n",
    "print(\"Last element of a: \", a[-1])"
   ]
  },
  {
   "cell_type": "markdown",
   "metadata": {},
   "source": [
    "Indexing in matrix and tensor is the same and we can index any column, row etc."
   ]
  },
  {
   "cell_type": "code",
   "execution_count": null,
   "metadata": {
    "collapsed": false
   },
   "outputs": [],
   "source": [
    "print(\"Matrix b: \\n\", b)\n",
    "print(\"\\nValue of b[0]: \\n\", b[0])\n",
    "print(\"\\nValue of b[-2]: \\n\", b[-2])\n",
    "print(\"\\nValue of b[0][1]: \", b[0][1])\n",
    "print(\"Value of b[0, 1]: \", b[0, 1])\n",
    "print(\"\\nValue of b[0, :]: \\n\", b[0, :])\n",
    "print(\"\\nValue of b[0:2, 1:]: \\n\", b[0:2, 1:]) # General form is start:end"
   ]
  },
  {
   "cell_type": "code",
   "execution_count": null,
   "metadata": {
    "collapsed": false
   },
   "outputs": [],
   "source": [
    "print(\"Tensor c: \\n\", c)\n",
    "print(\"\\nValue of c[0]: \\n\", c[0])\n",
    "print(\"\\nValue of c[-2]: \\n\", c[-2])\n",
    "print(\"\\nValue of c[0][1]: \", c[0][1])\n",
    "print(\"Value of c[0][0][0]: \", c[0][0][0])\n",
    "print(\"Value of c[0, 0, 0]: \", c[0, 0, 0])\n",
    "print(\"\\nValue of c[0, :, 0:2]: \\n\", c[0, :, 0:2])"
   ]
  },
  {
   "cell_type": "markdown",
   "metadata": {},
   "source": [
    "## Basic operations"
   ]
  },
  {
   "cell_type": "code",
   "execution_count": null,
   "metadata": {
    "collapsed": false
   },
   "outputs": [],
   "source": [
    "x = np.array([[1, 2], [3, 4]], dtype=np.float64)\n",
    "y = np.array([[5, 6], [7, 8]], dtype=np.float64)\n",
    "\n",
    "print(\"Matrix x: \\n\", x)\n",
    "print(\"\\nMatrix y: \\n\", y)"
   ]
  },
  {
   "cell_type": "code",
   "execution_count": null,
   "metadata": {
    "collapsed": false
   },
   "outputs": [],
   "source": [
    "print(\"Addition:\\n\", x + y)\n",
    "print(\"Subtraction:\\n\", y - x)\n",
    "print(\"Elementwise multiplication:\\n\", x * y)\n",
    "print(\"Multiplication:\\n\", np.matmul(x, y))\n",
    "print(\"Multiplication x@y:\\n\", x@y)\n",
    "print(\"Divison:\\n\", x / y)\n",
    "print(\"x>2:\\n\", x>2)\n",
    "print(\"Square root:\\n\", np.sqrt(x))\n",
    "print(\"Exp:\\n\", np.exp(x))\n",
    "print(\"Dot product:\\n\", np.dot(x[1], y[0]))\n",
    "print(\"Transpose:\\n\", x.T)\n",
    "print(\"Inverse:\\n\", np.linalg.inv(x))\n",
    "print(\"Determinant:\\n\", np.linalg.det(y))"
   ]
  },
  {
   "cell_type": "code",
   "execution_count": null,
   "metadata": {
    "collapsed": false
   },
   "outputs": [],
   "source": [
    "w = [0, 3, -2, 9, 5]\n",
    "print(\"w:\\n\", w)\n",
    "print(\"Argmax w:\\n\", np.argmax(w))\n",
    "print(\"Max w:\\n\", np.max(w))"
   ]
  },
  {
   "cell_type": "markdown",
   "metadata": {},
   "source": [
    "Boolean indexing"
   ]
  },
  {
   "cell_type": "code",
   "execution_count": null,
   "metadata": {
    "collapsed": false
   },
   "outputs": [],
   "source": [
    "arr = np.array([0, -3, 4, -1, 2, 8, 5])\n",
    "print(\"arr:\\n\", arr)\n",
    "print(\"Boolean indexing:\\n\", arr[[False, False, True, False, False, True, True]])\n",
    "print(\"arr>2:\\n\", arr>2)\n",
    "print(\"arr[arr>2]:\\n\", arr[arr>2])\n",
    "print(\"Remainder of division by 2:\\n\", np.remainder(c, 2)==0)\n",
    "print(\"Even numbers:\\n\", c[np.remainder(c, 2)==0])"
   ]
  },
  {
   "cell_type": "markdown",
   "metadata": {},
   "source": [
    "## Practice problem: Solve system of equations\n",
    "Solve the system of 5 equations involving 5 unknowns:\n",
    "\\begin{equation*}\n",
    "x_1-7x_5 = 2\n",
    "\\end{equation*}\n",
    "\\begin{equation*}\n",
    "x_2+9x_5=1\n",
    "\\end{equation*}\n",
    "\\begin{equation*}\n",
    "x_3+x_5=3\n",
    "\\end{equation*}\n",
    "\\begin{equation*}\n",
    "x_4-2x_5=5\n",
    "\\end{equation*}\n",
    "\\begin{equation*}\n",
    "3x_1+2x_2-x_3+4x_5=9\n",
    "\\end{equation*}"
   ]
  },
  {
   "cell_type": "code",
   "execution_count": null,
   "metadata": {
    "collapsed": false
   },
   "outputs": [],
   "source": [
    "x = np.zeros(5) # This is solution vector\n",
    "\n",
    "# [TODO] Solve the system and fill the vector x\n",
    "\n",
    "print(\"Solution:\\n\")\n",
    "print(\"x1=\", x[0])\n",
    "print(\"x2=\", x[1])\n",
    "print(\"x3=\", x[2])\n",
    "print(\"x4=\", x[3])\n",
    "print(\"x5=\", x[4])"
   ]
  },
  {
   "cell_type": "markdown",
   "metadata": {},
   "source": [
    "## Broadcasting\n",
    "Broadcasting is one of the most important numpy features. The term broadcasting describes how numpy treats arrays with different shapes during arithmetic operations. Subject to certain constraints, the smaller array is \"broadcast\" across the larger array so that they have compatible shapes. Broadcasting provides a means of vectorizing array operations so that looping occurs in C instead of Python. It does this without making needless copies of data and usually leads to efficient algorithm implementations."
   ]
  },
  {
   "cell_type": "code",
   "execution_count": null,
   "metadata": {
    "collapsed": false
   },
   "outputs": [],
   "source": [
    "a = np.array([1.0, 2.0, 3.0])\n",
    "b = np.array([2.0, 2.0, 2.0])\n",
    "print(\"a * b, a as vector, b as vector:\", a * b)\n",
    "\n",
    "b = np.array([2])\n",
    "print(\"a * b, a as vector, b as scalar:\", a * b)"
   ]
  },
  {
   "cell_type": "code",
   "execution_count": null,
   "metadata": {
    "collapsed": false
   },
   "outputs": [],
   "source": [
    "a = np.array([[1,2,3], [4,5,6]])\n",
    "b = np.array([2,4,6])\n",
    "\n",
    "print(\"Matrix a:\\n\", a)\n",
    "print(\"Vector b:\", b)\n",
    "print(\"a + b, a as matrix, b as vector:\\n\", a + b)\n",
    "print(\"a * b, a as matrix, b as vector:\\n\", a * b)\n",
    "print(\"Dot product of a and b:\\n\", np.dot(a, b))"
   ]
  },
  {
   "cell_type": "markdown",
   "metadata": {},
   "source": [
    "## Practice problem: Implement sigmoid function:\n",
    "### Sigmoid function:\n",
    "\n",
    "\\begin{equation*}\n",
    "S(x) = \\frac{1}{1 + e^{-x}}\n",
    "\\end{equation*}\n",
    "\n",
    "You can find more at *https://en.wikipedia.org/wiki/Sigmoid_function*"
   ]
  },
  {
   "cell_type": "code",
   "execution_count": null,
   "metadata": {
    "collapsed": false
   },
   "outputs": [],
   "source": [
    "def sigmoid(x):\n",
    "    # [TODO] Implement sigmoid function\n",
    "    return 0"
   ]
  },
  {
   "cell_type": "code",
   "execution_count": null,
   "metadata": {
    "collapsed": false
   },
   "outputs": [],
   "source": [
    "print(\"Sigmoid of \\\"0\\\":\", sigmoid(0))\n",
    "print(\"Expected value: 0.5\")\n",
    "testArray = np.array([1,5])\n",
    "print(\"Sigmoid of [1,5]:\", sigmoid(testArray))\n",
    "print(\"Expected value: [0.73105858 0.99330715]\")"
   ]
  }
 ],
 "metadata": {},
 "nbformat": 4,
 "nbformat_minor": 2
}